{
 "cells": [
  {
   "cell_type": "markdown",
   "id": "ee4416f9",
   "metadata": {},
   "source": [
    "## <u>E-commerce Data</u>\n",
    "\n",
    "[Source](https://archive.ics.uci.edu/ml/datasets/online+retail#)  of dataset.\n",
    "\n",
    "**Citation:** Daqing Chen, Sai Liang Sain, and Kun Guo, Data mining for the online retail industry: A case study of RFM model-based customer segmentation using data mining, Journal of Database Marketing and Customer Strategy Management, Vol. 19, No. 3, pp. 197-208, 2012 (Published online before print: 27 August 2012. doi: 10.1057/dbm.2012.17)."
   ]
  },
  {
   "cell_type": "markdown",
   "id": "a3c6d76c",
   "metadata": {},
   "source": [
    "### Data Dictionary\n",
    "| Variable    | Explanation                                                                                                                       |\n",
    "|-------------|-----------------------------------------------------------------------------------------------------------------------------------|\n",
    "| InvoiceNo   | A 6-digit integral number uniquely assigned to each transaction. If this code starts with letter 'c' it indicates a cancellation. |\n",
    "| StockCode   | A 5-digit integral number uniquely assigned to each distinct product.                                                             |\n",
    "| Description | Product (item) name                                                                                                               |\n",
    "| Quantity    | The quantities of each product (item) per transaction                                                                             |\n",
    "| InvoiceDate | The day and time when each transaction was generated                                                                              |\n",
    "| UnitPrice   | Product price per unit in sterling (pound)                                                                                        |\n",
    "| CustomerID  | A 5-digit integral number uniquely assigned to each customer                                                                      |\n",
    "| Country     | The name of the country where each customer resides    "
   ]
  },
  {
   "cell_type": "markdown",
   "id": "73aa7c92",
   "metadata": {},
   "source": [
    "### <u>Purpose of the EDA</u>:\n",
    "\n",
    "- 🗺️ **Explore**: Negative order quantities indicate returns. Which products have been returned the most?\n",
    "- 📊 **Visualize**: Create a plot visualizing the profits earned from UK customers weekly, monthly, and quarterly.\n",
    "- 🔎 **Analyze**: Are order sizes from countries outside the United Kingdom significantly larger than orders from inside the United Kingdom?\n",
    "\n",
    "**Scenario Challenge:**\n",
    "\n",
    "You are working for an online retailer. Currently, the retailer sells over 4000 unique products. \n",
    "To take inventory of the items, \n",
    "your manager has asked you whether you can group the products into a small number of categories. \n",
    "The categories should be similar in terms of price and quantity sold and any other characteristics \n",
    "you can extract from the data.\n",
    "\n",
    "You will need to prepare a report that is accessible to a broad audience. \n",
    "It should outline your motivation, steps, findings, and conclusions."
   ]
  },
  {
   "cell_type": "code",
   "execution_count": 1,
   "id": "5ed51697",
   "metadata": {},
   "outputs": [],
   "source": [
    "import numpy as np\n",
    "import pandas as pd\n",
    "import matplotlib.pyplot as plt\n",
    "import seaborn as sns"
   ]
  },
  {
   "cell_type": "code",
   "execution_count": null,
   "id": "14f799be",
   "metadata": {},
   "outputs": [],
   "source": [
    "orders = pd.read_excel(r'C:\\Users\\Michelle\\Documents\\Datasets\\Retail EDA\\Online Retail.xlsx')\n",
    "orders.head()"
   ]
  },
  {
   "cell_type": "markdown",
   "id": "2691ca54",
   "metadata": {},
   "source": [
    "**<u>1. Data Understanding</u>**\n",
    "- Checking the shape of the dataframe\n",
    "- Generate an overview of the dataframe\n",
    "- Checking the data for null values\n",
    "- Check if the rows are duplicated in the dataframe\n",
    "- Understand how the data is distributed"
   ]
  },
  {
   "cell_type": "code",
   "execution_count": null,
   "id": "f19f83d8",
   "metadata": {},
   "outputs": [],
   "source": [
    "orders.shape"
   ]
  },
  {
   "cell_type": "code",
   "execution_count": null,
   "id": "4a06a441",
   "metadata": {},
   "outputs": [],
   "source": [
    "orders.info()"
   ]
  },
  {
   "cell_type": "code",
   "execution_count": null,
   "id": "994cdfce",
   "metadata": {},
   "outputs": [],
   "source": [
    "orders.isna().sum()"
   ]
  },
  {
   "cell_type": "code",
   "execution_count": null,
   "id": "41ea1708",
   "metadata": {},
   "outputs": [],
   "source": [
    "0 in orders.values"
   ]
  },
  {
   "cell_type": "code",
   "execution_count": null,
   "id": "dfcd7d53",
   "metadata": {},
   "outputs": [],
   "source": [
    "# Count number of zeros in all columns of Dataframe\n",
    "for column_name in orders.columns:\n",
    "    column = orders[column_name]\n",
    "    # Get the count of Zeros in column \n",
    "    zero_count = (column == 0).sum()\n",
    "    print(f\"{column_name}:{zero_count}\")"
   ]
  },
  {
   "cell_type": "code",
   "execution_count": null,
   "id": "d8e392df",
   "metadata": {},
   "outputs": [],
   "source": [
    "# Check for negative values\n",
    "(orders.select_dtypes(np.number) < 0).sum()"
   ]
  },
  {
   "cell_type": "code",
   "execution_count": null,
   "id": "9816d17a",
   "metadata": {},
   "outputs": [],
   "source": [
    "orders[orders.duplicated()]"
   ]
  },
  {
   "cell_type": "markdown",
   "id": "f342b35d",
   "metadata": {},
   "source": [
    "**Observations:**\n",
    "- There are missing values in the Description and CustomerID columns\n",
    "- There are zero values in the UnitPrice column\n",
    "- There are negative values in the Quantity column \n",
    "- Occurence of duplicated rows but that can be because of multiple orders, recurring orders from one invoice and/or customer "
   ]
  },
  {
   "cell_type": "markdown",
   "id": "5b56cb6b",
   "metadata": {},
   "source": [
    "**<u>2. Data Cleaning</u>**"
   ]
  },
  {
   "cell_type": "markdown",
   "id": "ef6c6366",
   "metadata": {},
   "source": [
    "- Dealing with zero values"
   ]
  },
  {
   "cell_type": "code",
   "execution_count": null,
   "id": "4f45b37b",
   "metadata": {},
   "outputs": [],
   "source": [
    "# Create a Total Price column\n",
    "orders['TotalPrice'] = orders.Quantity * orders.UnitPrice\n",
    "orders.head()"
   ]
  },
  {
   "cell_type": "code",
   "execution_count": null,
   "id": "2c72ecc8",
   "metadata": {},
   "outputs": [],
   "source": [
    "orders['UnitPrice'].describe()"
   ]
  },
  {
   "cell_type": "code",
   "execution_count": null,
   "id": "d74c4d65",
   "metadata": {},
   "outputs": [],
   "source": [
    "orders.hist(column=['UnitPrice'], log=True, bins=20)"
   ]
  },
  {
   "cell_type": "code",
   "execution_count": null,
   "id": "07725358",
   "metadata": {
    "scrolled": true
   },
   "outputs": [],
   "source": [
    "orders.UnitPrice.fillna(orders.UnitPrice.median())\n",
    "orders.UnitPrice.isna().sum()"
   ]
  },
  {
   "cell_type": "markdown",
   "id": "3d5f22e4",
   "metadata": {},
   "source": [
    "**Observation:** The UnitPrice directly affects the Total Price and we cannot simply drop these rows since they might hold valuable data. The data is right skewed and so to perform an imputation where we replace the zero values, we should use the median as opposed to the mean which is easily affected by outliers"
   ]
  },
  {
   "cell_type": "markdown",
   "id": "a229f284",
   "metadata": {},
   "source": [
    "- Dealing with negative values"
   ]
  },
  {
   "cell_type": "code",
   "execution_count": null,
   "id": "6206c75f",
   "metadata": {},
   "outputs": [],
   "source": [
    "(orders.select_dtypes(np.number) < 0).sum()"
   ]
  },
  {
   "cell_type": "code",
   "execution_count": null,
   "id": "a5e412aa",
   "metadata": {},
   "outputs": [],
   "source": [
    "orders[orders['Quantity'] < 0]"
   ]
  },
  {
   "cell_type": "code",
   "execution_count": null,
   "id": "cd506241",
   "metadata": {},
   "outputs": [],
   "source": [
    "orders[orders['UnitPrice'] < 0]"
   ]
  },
  {
   "cell_type": "code",
   "execution_count": null,
   "id": "e5fa5d86",
   "metadata": {},
   "outputs": [],
   "source": [
    "orders = orders[orders['UnitPrice'] > 0]"
   ]
  },
  {
   "cell_type": "markdown",
   "id": "419d1468",
   "metadata": {},
   "source": [
    "**Observation:** The negative values in Quantity are due to cancelled orders and can remain as is. The negative values in UnitPrice are because of bad debt and can be removed since they will affect the TotalPrice"
   ]
  },
  {
   "cell_type": "markdown",
   "id": "14ab2d28",
   "metadata": {},
   "source": [
    "- Dealing with missing values"
   ]
  },
  {
   "cell_type": "code",
   "execution_count": null,
   "id": "c049ab87",
   "metadata": {},
   "outputs": [],
   "source": [
    "orders.head()"
   ]
  },
  {
   "cell_type": "code",
   "execution_count": null,
   "id": "ec2657db",
   "metadata": {},
   "outputs": [],
   "source": [
    "orders[orders['CustomerID'].isnull()]"
   ]
  },
  {
   "cell_type": "code",
   "execution_count": null,
   "id": "2cb6d85f",
   "metadata": {},
   "outputs": [],
   "source": [
    "orders.drop(['CustomerID'], axis=1, inplace=True)\n",
    "orders.head()"
   ]
  },
  {
   "cell_type": "markdown",
   "id": "b4ed7659",
   "metadata": {},
   "source": [
    "**Observation:** Since the InvoiceNo column mirrors a unique identifier for the CustomerID, we can safely drop the column from our dataframe"
   ]
  },
  {
   "cell_type": "markdown",
   "id": "f498ee84",
   "metadata": {},
   "source": [
    "**<u>3. Data Exploration & Visualization</u>**"
   ]
  },
  {
   "cell_type": "markdown",
   "id": "e3611700",
   "metadata": {},
   "source": [
    "- 🗺️ **Explore**: Negative order quantities indicate returns. Which products have been returned the most?\n",
    "- 📊 **Visualize**: Create a plot visualizing the profits earned from UK customers weekly, monthly, and quarterly.\n",
    "- 🔎 **Analyze**: Are order sizes from countries outside the United Kingdom significantly larger than orders from inside the United Kingdom?"
   ]
  },
  {
   "cell_type": "code",
   "execution_count": null,
   "id": "887982a3",
   "metadata": {},
   "outputs": [],
   "source": [
    "# Create Year, Month and Day columns from datetime InvoiceDate column\n",
    "orders['Year'] = orders['InvoiceDate'].dt.year\n",
    "orders['Month'] = orders['InvoiceDate'].dt.month\n",
    "orders['Week'] = orders['InvoiceDate'].dt.weekday\n",
    "orders['Date'] = orders['InvoiceDate'].dt.time\n",
    "orders['Hour'] = orders['InvoiceDate'].dt.hour"
   ]
  },
  {
   "cell_type": "code",
   "execution_count": null,
   "id": "71736af9",
   "metadata": {},
   "outputs": [],
   "source": [
    "# Create a column highlighting whether an order was completed or cancelled\n",
    "orders['OrderStatus'] = orders['Quantity'].apply(lambda s:'Cancelled' if s < 0 else 'Purchased')"
   ]
  },
  {
   "cell_type": "code",
   "execution_count": null,
   "id": "b2e06625",
   "metadata": {},
   "outputs": [],
   "source": [
    "sns.countplot(x=orders['OrderStatus'])"
   ]
  },
  {
   "cell_type": "code",
   "execution_count": null,
   "id": "a8b0c74c",
   "metadata": {},
   "outputs": [],
   "source": [
    "# Subset dataframe of purchased orders\n",
    "purchased = orders[orders['OrderStatus'] == 'Purchased']\n",
    "# Subset dataframe of returned orders\n",
    "returned = orders[orders['OrderStatus'] == 'Cancelled']"
   ]
  },
  {
   "cell_type": "markdown",
   "id": "91d23bdd",
   "metadata": {},
   "source": [
    "Which products have been returned the most?"
   ]
  },
  {
   "cell_type": "code",
   "execution_count": null,
   "id": "4f6061fa",
   "metadata": {},
   "outputs": [],
   "source": [
    "returned_products = returned[['Description','StockCode']].value_counts().to_frame(name='Number of Returns')\n",
    "returned_products"
   ]
  },
  {
   "cell_type": "markdown",
   "id": "eb4fdcad",
   "metadata": {},
   "source": [
    "Find the most commonly sold products"
   ]
  },
  {
   "cell_type": "code",
   "execution_count": null,
   "id": "68fcc3db",
   "metadata": {},
   "outputs": [],
   "source": [
    "purchased_products = purchased[['Description','StockCode']].value_counts().to_frame(name='Units Sold')\n",
    "purchased_products"
   ]
  },
  {
   "cell_type": "markdown",
   "id": "5bd30ec3",
   "metadata": {},
   "source": [
    "What are the sales earned by country?"
   ]
  },
  {
   "cell_type": "code",
   "execution_count": null,
   "id": "76a93e5e",
   "metadata": {},
   "outputs": [],
   "source": [
    "profits = purchased.groupby(by='Country')[['Quantity', 'TotalPrice']].agg('sum').sort_values(by='TotalPrice', ascending=False)\n",
    "profits['TotalPrice'].plot(kind='bar', log=True, figsize=(25,5), title='Sales per Country', ylabel='Sales in GBP')\n",
    "plt.show()"
   ]
  },
  {
   "cell_type": "markdown",
   "id": "48d9377b",
   "metadata": {},
   "source": [
    "Best Month for sales in the UK?"
   ]
  },
  {
   "cell_type": "code",
   "execution_count": null,
   "id": "3e0c7f7a",
   "metadata": {},
   "outputs": [],
   "source": [
    "from matplotlib.ticker import StrMethodFormatter\n",
    "\n",
    "# create a df of products sold to the UK\n",
    "uk = purchased[purchased['Country'] == 'United Kingdom'].sort_values(by='InvoiceDate')\n",
    "\n",
    "# group and plot data\n",
    "uk_month = uk.groupby(by=['Year', 'Month']).sum()\n",
    "ax = uk_month['TotalPrice'].plot(figsize=(15,5),title='Monthly Sales in the UK', ylabel='Total Sales in Millions (£)', xlabel='Year-Month')\n",
    "\n",
    "# format the x and y axes\n",
    "ax.set_xticks(range(len(uk_month['TotalPrice'])))\n",
    "ax.set_xticklabels([\"%s-%02d\" % item for item in uk_month.TotalPrice.index.tolist()])\n",
    "plt.ticklabel_format(style='plain', axis='y')\n",
    "plt.grid()\n",
    "ax.yaxis.set_major_formatter(StrMethodFormatter('{x:,}'))\n",
    "\n",
    "plt.show()"
   ]
  },
  {
   "cell_type": "markdown",
   "id": "4dec673d",
   "metadata": {},
   "source": [
    "What time should we put up ads on the website?"
   ]
  },
  {
   "cell_type": "code",
   "execution_count": null,
   "id": "ede03484",
   "metadata": {},
   "outputs": [],
   "source": [
    "time_df = uk[['Year', 'Month', 'Date', 'Hour', 'TotalPrice']]\n",
    "sales_per_hour = time_df.groupby(by='Hour')['TotalPrice'].agg('sum').to_frame()\n",
    "sns.set_theme()\n",
    "sns.relplot(x=sales_per_hour.index, y='TotalPrice', data=sales_per_hour, kind='line')"
   ]
  },
  {
   "cell_type": "markdown",
   "id": "f287dd34",
   "metadata": {},
   "source": [
    "Which day has the highest number of orders?"
   ]
  },
  {
   "cell_type": "code",
   "execution_count": null,
   "id": "23f765d9",
   "metadata": {},
   "outputs": [],
   "source": [
    "purchased\n"
   ]
  },
  {
   "cell_type": "code",
   "execution_count": null,
   "id": "2587aa15",
   "metadata": {},
   "outputs": [],
   "source": [
    "invoice = purchased.groupby('InvoiceNo')\n",
    "invoice.describe()"
   ]
  },
  {
   "cell_type": "code",
   "execution_count": null,
   "id": "0877c264",
   "metadata": {},
   "outputs": [],
   "source": []
  }
 ],
 "metadata": {
  "kernelspec": {
   "display_name": "Python 3 (ipykernel)",
   "language": "python",
   "name": "python3"
  },
  "language_info": {
   "codemirror_mode": {
    "name": "ipython",
    "version": 3
   },
   "file_extension": ".py",
   "mimetype": "text/x-python",
   "name": "python",
   "nbconvert_exporter": "python",
   "pygments_lexer": "ipython3",
   "version": "3.9.7"
  },
  "vscode": {
   "interpreter": {
    "hash": "293183e071466e8dd4f56f4343cc2a24685f24fdc9574d7ee7ac19932491a955"
   }
  }
 },
 "nbformat": 4,
 "nbformat_minor": 5
}
